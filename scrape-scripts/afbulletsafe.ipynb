{
 "metadata": {
  "language_info": {
   "codemirror_mode": {
    "name": "ipython",
    "version": 3
   },
   "file_extension": ".py",
   "mimetype": "text/x-python",
   "name": "python",
   "nbconvert_exporter": "python",
   "pygments_lexer": "ipython3",
   "version": "3.8.5-final"
  },
  "orig_nbformat": 2,
  "kernelspec": {
   "name": "Python 3.8.5 64-bit ('webscraper': conda)",
   "display_name": "Python 3.8.5 64-bit ('webscraper': conda)",
   "metadata": {
    "interpreter": {
     "hash": "ee1bcffc68cbb7719a6612a6e77ce6a77f4c8bd47b1c2e1622f285909b582ca8"
    }
   }
  }
 },
 "nbformat": 4,
 "nbformat_minor": 2,
 "cells": [
  {
   "cell_type": "code",
   "execution_count": 7,
   "metadata": {
    "tags": []
   },
   "outputs": [],
   "source": [
    "import requests\n",
    "import re\n",
    "from bs4 import BeautifulSoup\n",
    "import html5lib\n",
    "import multiprocessing.dummy as mp\n",
    "\n",
    "numInPage = 250\n",
    "URL = f'https://afbulletsafe.com/?PageSize={numInPage}&SortOption=6&PageNumber=1'\n",
    "ROOT = 'http://www.afbulletsafe.com/'\n",
    "outdir = '../scrapes/'\n",
    "outfile = outdir + 'afbulletsafe.txt'\n",
    "homepage = requests.get(URL)\n",
    "\n",
    "# need HTML5LIB because sometimes website has errors in HTML. html5lib is very forgiving.\n",
    "homeSoup = BeautifulSoup(homepage.content,'html5lib')\n"
   ]
  },
  {
   "cell_type": "code",
   "execution_count": 9,
   "metadata": {},
   "outputs": [],
   "source": [
    "# Manually calculating number of pages based on web scrape result of total results\n",
    "#  and generating URLS using that\n",
    "totalStr = homeSoup.find(string=re.compile('per page of (\\d+)')).strip()\n",
    "total = int(re.match('per page of (\\d+)', totalStr).groups()[0])\n",
    "totalPages = int(total/numInPage)+1\n",
    "URLs = lambda pageNum: f'https://afbulletsafe.com/?PageSize={numInPage}&SortOption=6&PageNumber={pageNum}'\n",
    "pageURLs = [URLs(page) for page in range(1,totalPages+1)]"
   ]
  },
  {
   "cell_type": "code",
   "execution_count": 11,
   "metadata": {},
   "outputs": [],
   "source": [
    "def getBulletsInPage(pageURL, bulletDict):\n",
    "    \n",
    "    page = requests.get(pageURL)\n",
    "    pageSoup = BeautifulSoup(page.content, 'html5lib')\n",
    "\n",
    "    # Searches for all strings that match regex corresponding to a bullet link\n",
    "    bulletScrape = pageSoup.find_all('a',href=re.compile('/Bullet/Details/\\d+/'))\n",
    "    bulletDict[pageURL] = [bullet.get_text().strip() for bullet in bulletScrape]\n"
   ]
  },
  {
   "cell_type": "code",
   "execution_count": 13,
   "metadata": {
    "tags": []
   },
   "outputs": [],
   "source": [
    "# multiprocessing is used to speed up the scrape. \n",
    "\n",
    "# a dict/manager is used to collect all scraped bullets during multiprocessing.  \n",
    "manager = mp.Manager()\n",
    "resultsDict = manager.dict()\n",
    "\n",
    "#running Pool() with no arguments will default to amount of cores you have... I think\n",
    "p = mp.Pool()\n",
    "\n",
    "p.starmap(getBulletsInPage, [(pageURL,resultsDict) for pageURL in pageURLs])\n",
    "p.close()\n",
    "p.join()\n",
    "\n",
    "# Writing to file. Should default to clobbering.\n",
    "with open(outfile,'w',encoding='utf-8') as fileID:\n",
    "    for key in resultsDict:\n",
    "        fileID.write(f'SECTION {key} \\n')\n",
    "        for line in resultsDict[key]:\n",
    "            fileID.write(line + '\\n')"
   ]
  },
  {
   "cell_type": "code",
   "execution_count": 15,
   "metadata": {},
   "outputs": [
    {
     "output_type": "execute_result",
     "data": {
      "text/plain": "[&#39;Moved Op Ice Bridge cgo; loaded 5 pcs/4 tons--helped bridge gap/support observation of polar cap&#39;,\n &#39;Assembled/ rushed 3K ration pallets valued &gt;$6M--supplied life-saving perishables to combat engaged servicemen&#39;,\n &#39;Pivotal Latrine Svc Truck trainer; provided tng dur 183% increase of pipeline students--afforded comfort for xxK pax&#39;,\n &#39;Sped movement of (TYPE) acft; processed 2K lb turbofan engine--delivered $XXM (ITEM) to FMC status&#39;,\n &#39;Delivered critical (ITEM) eqpt; mvd hi-vis global security shipment/lifted w/in 4 hrs--sustained $000M (ACRONYM) sys&#39;]"
     },
     "metadata": {},
     "execution_count": 15
    }
   ],
   "source": [
    "# this block is for debugging\n",
    "pageURL = 'https://afbulletsafe.com/?PageSize=250&SortOption=6&PageNumber=24'\n",
    "page = requests.get(pageURL)\n",
    "pageSoup = BeautifulSoup(page.content, 'html5lib')\n",
    "bulletScrape = pageSoup.find_all('a',href=re.compile('/Bullet/Details/\\d+/'))\n",
    "bullets = [bullet.get_text() for bullet in bulletScrape]\n",
    "bullets[0:5]"
   ]
  },
  {
   "cell_type": "code",
   "execution_count": null,
   "metadata": {},
   "outputs": [],
   "source": []
  }
 ]
}