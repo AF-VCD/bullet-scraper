{
 "metadata": {
  "language_info": {
   "codemirror_mode": {
    "name": "ipython",
    "version": 3
   },
   "file_extension": ".py",
   "mimetype": "text/x-python",
   "name": "python",
   "nbconvert_exporter": "python",
   "pygments_lexer": "ipython3",
   "version": "3.8.5-final"
  },
  "orig_nbformat": 2,
  "kernelspec": {
   "name": "Python 3.8.5 64-bit ('webscraper': conda)",
   "display_name": "Python 3.8.5 64-bit ('webscraper': conda)",
   "metadata": {
    "interpreter": {
     "hash": "ee1bcffc68cbb7719a6612a6e77ce6a77f4c8bd47b1c2e1622f285909b582ca8"
    }
   }
  }
 },
 "nbformat": 4,
 "nbformat_minor": 2,
 "cells": [
  {
   "cell_type": "code",
   "execution_count": 1,
   "metadata": {
    "tags": []
   },
   "outputs": [],
   "source": [
    "import requests\n",
    "import re\n",
    "from bs4 import BeautifulSoup\n",
    "import html5lib\n",
    "import multiprocessing.dummy as mp\n",
    "\n",
    "# searching under all categories, positive bullets. 'hard-coded' to 250 results per page\n",
    "URL = 'http://www.afeprbullets.com/results.php?Submit5=Search&strength=Positive&rec=250&pg=1'\n",
    "ROOT = 'http://www.afeprbullets.com/'\n",
    "outdir = '../scrapes/'\n",
    "outfile = outdir + 'afeprbullets.txt'\n",
    "homepage = requests.get(URL)\n",
    "\n",
    "# need HTML5LIB because sometimes website has errors in HTML. html5lib is very forgiving.\n",
    "homeSoup = BeautifulSoup(homepage.content,'html5lib')\n"
   ]
  },
  {
   "cell_type": "code",
   "execution_count": 2,
   "metadata": {},
   "outputs": [],
   "source": [
    "pageList = homeSoup.find_all('a', href=re.compile('&rec=250&pg=\\d+'))\n",
    "# This site lists hrefs relative to root.\n",
    "pageURLs = [ROOT + pageItem['href'] for pageItem in pageList]"
   ]
  },
  {
   "cell_type": "code",
   "execution_count": 3,
   "metadata": {},
   "outputs": [],
   "source": [
    "def getBulletsInPage(pageURL, bulletDict):\n",
    "    \n",
    "    page = requests.get(pageURL)\n",
    "    pageSoup = BeautifulSoup(page.content, 'html5lib')\n",
    "\n",
    "    # Searches for all strings that match regex.\n",
    "    bulletScrape = pageSoup.find(id=\"form1\").find_all('a',href=re.compile('rateit\\.php\\?id=\\d+'))\n",
    "    bulletDict[pageURL] = [bullet.get_text().strip() for bullet in bulletScrape]\n"
   ]
  },
  {
   "cell_type": "code",
   "execution_count": 4,
   "metadata": {
    "tags": []
   },
   "outputs": [],
   "source": [
    "# multiprocessing is used to speed up the scrape. \n",
    "\n",
    "# a dict/manager is used to collect all scraped bullets during multiprocessing.  \n",
    "manager = mp.Manager()\n",
    "resultsDict = manager.dict()\n",
    "\n",
    "#running Pool() with no arguments will default to amount of cores you have... I think\n",
    "p = mp.Pool()\n",
    "\n",
    "p.starmap(getBulletsInPage, [(pageURL,resultsDict) for pageURL in pageURLs])\n",
    "p.close()\n",
    "p.join()\n",
    "\n",
    "# Writing to file. Should default to clobbering.\n",
    "with open(outfile,'w',encoding='utf-8') as fileID:\n",
    "    for key in resultsDict:\n",
    "        fileID.write(f'SECTION {key} \\n')\n",
    "        for line in resultsDict[key]:\n",
    "            fileID.write(line + '\\n')"
   ]
  },
  {
   "cell_type": "code",
   "execution_count": 110,
   "metadata": {},
   "outputs": [
    {
     "output_type": "execute_result",
     "data": {
      "text/plain": "[&#39;- Exceptional SNCO! BASE\\&#39;s nominee for the 2006 &quot;Chief Master Sergeant Larry R. Daniels Award&quot;&#39;,\n &#39;- Deployed as Fire Chief to Baghdad International Airport (BIAP); molded 45 firefighters into a cohesive team\\n  -- 24-hour combat fire protection--6K airlift missions carrying 57K troops/19K cargo short-tons--zero fire loss&#39;,\n &#39;- Community leader--VFW Post #### nominee for 2006 &quot;Gold Medal Award&quot;--ready for SNCO of the Year&#39;,\n &#39;- Exceptional Amn; consistantly performs insps 20% above peers--contributed to flt 93% in-commission rate\\n- Primed units for TACEVAL; replaced one starter/two cylinders--aided first NATO response force certification&#39;,\n &quot;- Flawless superintendent control of flight&#39;s Operations/Readiness--84 firefighters, $10M fleet, $1.9M budget&quot;]"
     },
     "metadata": {},
     "execution_count": 110
    }
   ],
   "source": [
    "# this block is for debugging\n",
    "pageURL = 'http://www.afeprbullets.com/results.php?Submit5=Search&strength=Positive&rec=250&pg=1'\n",
    "page = requests.get(pageURL)\n",
    "pageSoup = BeautifulSoup(page.content, 'html5lib')\n",
    "bulletScrape = pageSoup.find(id=\"form1\").find_all('a',href=re.compile('rateit\\.php\\?id=\\d+'))\n",
    "bullets = [bullet.get_text() for bullet in bulletScrape]\n",
    "bullets[0:5]"
   ]
  }
 ]
}